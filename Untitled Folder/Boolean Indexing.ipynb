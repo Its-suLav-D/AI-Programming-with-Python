{
 "cells": [
  {
   "cell_type": "code",
   "execution_count": 1,
   "id": "cf63abc3",
   "metadata": {},
   "outputs": [],
   "source": [
    "import numpy as np \n"
   ]
  },
  {
   "cell_type": "code",
   "execution_count": 2,
   "id": "b60b33c7",
   "metadata": {},
   "outputs": [
    {
     "name": "stdout",
     "output_type": "stream",
     "text": [
      "[[ 0  1  2  3  4]\n",
      " [ 5  6  7  8  9]\n",
      " [10 11 12 13 14]\n",
      " [15 16 17 18 19]\n",
      " [20 21 22 23 24]]\n"
     ]
    }
   ],
   "source": [
    "X = np.arange(25).reshape(5,5)\n",
    "print(X)"
   ]
  },
  {
   "cell_type": "code",
   "execution_count": 5,
   "id": "dfe3f391",
   "metadata": {},
   "outputs": [
    {
     "name": "stdout",
     "output_type": "stream",
     "text": [
      "[11 12 13 14 15 16 17 18 19 20 21 22 23 24]\n"
     ]
    }
   ],
   "source": [
    "print(X[X>10])"
   ]
  },
  {
   "cell_type": "code",
   "execution_count": null,
   "id": "9a88c66f",
   "metadata": {},
   "outputs": [],
   "source": [
    "# Sort Two Dimensional Array "
   ]
  },
  {
   "cell_type": "code",
   "execution_count": 6,
   "id": "f96400bd",
   "metadata": {},
   "outputs": [
    {
     "name": "stdout",
     "output_type": "stream",
     "text": [
      "[[ 4  6  5  8  1]\n",
      " [ 7  4 10  4 10]\n",
      " [ 4  3  8  4 10]\n",
      " [ 3  4  3  5  6]\n",
      " [ 2  4  8  8  9]]\n"
     ]
    }
   ],
   "source": [
    "X = np.random.randint(1,11,size=(5,5))\n",
    "print(X)"
   ]
  },
  {
   "cell_type": "code",
   "execution_count": 15,
   "id": "88e82cbb",
   "metadata": {},
   "outputs": [
    {
     "name": "stdout",
     "output_type": "stream",
     "text": [
      "[[   1    9    1 ...    5   15   10]\n",
      " [   1   24    8 ...    7   17   17]\n",
      " [   2   28   11 ...   10   21   20]\n",
      " ...\n",
      " [4986 4995 4992 ... 4985 4991 4996]\n",
      " [4990 4997 4996 ... 4986 4993 4997]\n",
      " [4999 5000 5000 ... 4988 4998 4999]]\n"
     ]
    }
   ],
   "source": [
    "print(np.sort(X,axis=0))"
   ]
  },
  {
   "cell_type": "code",
   "execution_count": 11,
   "id": "5b3cc6fc",
   "metadata": {},
   "outputs": [
    {
     "name": "stdout",
     "output_type": "stream",
     "text": [
      "[[1. 2. 3. 4.]\n",
      " [1. 2. 3. 4.]\n",
      " [1. 2. 3. 4.]\n",
      " [1. 2. 3. 4.]]\n"
     ]
    }
   ],
   "source": [
    "X = np.ones((4,4)) * np.arange(1,5)\n",
    "print(X)"
   ]
  },
  {
   "cell_type": "code",
   "execution_count": 13,
   "id": "123f4e7f",
   "metadata": {},
   "outputs": [
    {
     "name": "stdout",
     "output_type": "stream",
     "text": [
      "[[4327 1159 1972 ... 3423 2209 1014]\n",
      " [4844 4989 3418 ... 3448  657 2135]\n",
      " [1918 3551 2693 ... 1178 2474 1760]\n",
      " ...\n",
      " [1204 2608 1595 ... 3277 1996  593]\n",
      " [2640 2497 3186 ... 3718  539  861]\n",
      " [2728 1364 2254 ... 3683 4722 4999]]\n"
     ]
    }
   ],
   "source": [
    "X = np.random.randint(0,5001, size=(1000,20))\n",
    "print(X)"
   ]
  },
  {
   "cell_type": "code",
   "execution_count": null,
   "id": "f26b27bf",
   "metadata": {},
   "outputs": [],
   "source": []
  }
 ],
 "metadata": {
  "kernelspec": {
   "display_name": "Python 3 (ipykernel)",
   "language": "python",
   "name": "python3"
  },
  "language_info": {
   "codemirror_mode": {
    "name": "ipython",
    "version": 3
   },
   "file_extension": ".py",
   "mimetype": "text/x-python",
   "name": "python",
   "nbconvert_exporter": "python",
   "pygments_lexer": "ipython3",
   "version": "3.9.7"
  }
 },
 "nbformat": 4,
 "nbformat_minor": 5
}
